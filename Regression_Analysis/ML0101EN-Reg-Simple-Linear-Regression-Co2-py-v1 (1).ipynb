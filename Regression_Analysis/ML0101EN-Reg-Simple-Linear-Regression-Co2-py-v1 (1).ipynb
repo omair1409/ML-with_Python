{
 "cells": [
  {
   "cell_type": "markdown",
   "metadata": {
    "button": false,
    "deletable": true,
    "new_sheet": false,
    "run_control": {
     "read_only": false
    }
   },
   "source": [
    "<a href=\"https://www.bigdatauniversity.com\"><img src=\"https://ibm.box.com/shared/static/cw2c7r3o20w9zn8gkecaeyjhgw3xdgbj.png\" width=\"400\" align=\"center\"></a>\n",
    "\n",
    "<h1><center>Simple Linear Regression</center></h1>\n",
    "\n",
    "\n",
    "<h4>About this Notebook</h4>\n",
    "In this notebook, we learn how to use scikit-learn to implement simple linear regression. We download a dataset that is related to fuel consumption and Carbon dioxide emission of cars. Then, we split our data into training and test sets, create a model using training set, evaluate your model using test set, and finally use model to predict unknown value.\n"
   ]
  },
  {
   "cell_type": "markdown",
   "metadata": {},
   "source": [
    "<h1>Table of contents</h1>\n",
    "\n",
    "<div class=\"alert alert-block alert-info\" style=\"margin-top: 20px\">\n",
    "    <ol>\n",
    "        <li><a href=\"#understanding_data\">Understanding the Data</a></li>\n",
    "        <li><a href=\"#reading_data\">Reading the data in</a></li>\n",
    "        <li><a href=\"#data_exploration\">Data Exploration</a></li>\n",
    "        <li><a href=\"#simple_regression\">Simple Regression Model</a></li>\n",
    "    </ol>\n",
    "</div>\n",
    "<br>\n",
    "<hr>"
   ]
  },
  {
   "cell_type": "markdown",
   "metadata": {
    "button": false,
    "deletable": true,
    "new_sheet": false,
    "run_control": {
     "read_only": false
    }
   },
   "source": [
    "### Importing Needed packages"
   ]
  },
  {
   "cell_type": "code",
   "execution_count": 23,
   "metadata": {
    "button": false,
    "deletable": true,
    "new_sheet": false,
    "run_control": {
     "read_only": false
    }
   },
   "outputs": [],
   "source": [
    "import matplotlib.pyplot as plt\n",
    "import pandas as pd\n",
    "import pylab as pl\n",
    "import numpy as np\n",
    "%matplotlib inline"
   ]
  },
  {
   "cell_type": "markdown",
   "metadata": {
    "button": false,
    "deletable": true,
    "new_sheet": false,
    "run_control": {
     "read_only": false
    }
   },
   "source": [
    "### Downloading Data\n",
    "To download the data, we will use !wget to download it from IBM Object Storage."
   ]
  },
  {
   "cell_type": "code",
   "execution_count": 24,
   "metadata": {
    "button": false,
    "deletable": true,
    "new_sheet": false,
    "run_control": {
     "read_only": false
    }
   },
   "outputs": [
    {
     "name": "stdout",
     "output_type": "stream",
     "text": [
      "--2020-05-07 17:52:59--  https://s3-api.us-geo.objectstorage.softlayer.net/cf-courses-data/CognitiveClass/ML0101ENv3/labs/FuelConsumptionCo2.csv\n",
      "Resolving s3-api.us-geo.objectstorage.softlayer.net (s3-api.us-geo.objectstorage.softlayer.net)... 67.228.254.196\n",
      "Connecting to s3-api.us-geo.objectstorage.softlayer.net (s3-api.us-geo.objectstorage.softlayer.net)|67.228.254.196|:443... connected.\n",
      "HTTP request sent, awaiting response... 200 OK\n",
      "Length: 72629 (71K) [text/csv]\n",
      "Saving to: ‘FuelConsumption.csv’\n",
      "\n",
      "FuelConsumption.csv 100%[===================>]  70.93K  --.-KB/s    in 0.05s   \n",
      "\n",
      "2020-05-07 17:52:59 (1.49 MB/s) - ‘FuelConsumption.csv’ saved [72629/72629]\n",
      "\n"
     ]
    }
   ],
   "source": [
    "!wget -O FuelConsumption.csv https://s3-api.us-geo.objectstorage.softlayer.net/cf-courses-data/CognitiveClass/ML0101ENv3/labs/FuelConsumptionCo2.csv"
   ]
  },
  {
   "cell_type": "markdown",
   "metadata": {},
   "source": [
    "__Did you know?__ When it comes to Machine Learning, you will likely be working with large datasets. As a business, where can you host your data? IBM is offering a unique opportunity for businesses, with 10 Tb of IBM Cloud Object Storage: [Sign up now for free](http://cocl.us/ML0101EN-IBM-Offer-CC)"
   ]
  },
  {
   "cell_type": "markdown",
   "metadata": {
    "button": false,
    "deletable": true,
    "new_sheet": false,
    "run_control": {
     "read_only": false
    }
   },
   "source": [
    "\n",
    "<h2 id=\"understanding_data\">Understanding the Data</h2>\n",
    "\n",
    "### `FuelConsumption.csv`:\n",
    "We have downloaded a fuel consumption dataset, **`FuelConsumption.csv`**, which contains model-specific fuel consumption ratings and estimated carbon dioxide emissions for new light-duty vehicles for retail sale in Canada. [Dataset source](http://open.canada.ca/data/en/dataset/98f1a129-f628-4ce4-b24d-6f16bf24dd64)\n",
    "\n",
    "- **MODELYEAR** e.g. 2014\n",
    "- **MAKE** e.g. Acura\n",
    "- **MODEL** e.g. ILX\n",
    "- **VEHICLE CLASS** e.g. SUV\n",
    "- **ENGINE SIZE** e.g. 4.7\n",
    "- **CYLINDERS** e.g 6\n",
    "- **TRANSMISSION** e.g. A6\n",
    "- **FUEL CONSUMPTION in CITY(L/100 km)** e.g. 9.9\n",
    "- **FUEL CONSUMPTION in HWY (L/100 km)** e.g. 8.9\n",
    "- **FUEL CONSUMPTION COMB (L/100 km)** e.g. 9.2\n",
    "- **CO2 EMISSIONS (g/km)** e.g. 182   --> low --> 0\n"
   ]
  },
  {
   "cell_type": "markdown",
   "metadata": {
    "button": false,
    "deletable": true,
    "new_sheet": false,
    "run_control": {
     "read_only": false
    }
   },
   "source": [
    "<h2 id=\"reading_data\">Reading the data in</h2>"
   ]
  },
  {
   "cell_type": "code",
   "execution_count": 25,
   "metadata": {
    "button": false,
    "deletable": true,
    "new_sheet": false,
    "run_control": {
     "read_only": false
    }
   },
   "outputs": [
    {
     "data": {
      "text/html": [
       "<div>\n",
       "<style scoped>\n",
       "    .dataframe tbody tr th:only-of-type {\n",
       "        vertical-align: middle;\n",
       "    }\n",
       "\n",
       "    .dataframe tbody tr th {\n",
       "        vertical-align: top;\n",
       "    }\n",
       "\n",
       "    .dataframe thead th {\n",
       "        text-align: right;\n",
       "    }\n",
       "</style>\n",
       "<table border=\"1\" class=\"dataframe\">\n",
       "  <thead>\n",
       "    <tr style=\"text-align: right;\">\n",
       "      <th></th>\n",
       "      <th>MODELYEAR</th>\n",
       "      <th>MAKE</th>\n",
       "      <th>MODEL</th>\n",
       "      <th>VEHICLECLASS</th>\n",
       "      <th>ENGINESIZE</th>\n",
       "      <th>CYLINDERS</th>\n",
       "      <th>TRANSMISSION</th>\n",
       "      <th>FUELTYPE</th>\n",
       "      <th>FUELCONSUMPTION_CITY</th>\n",
       "      <th>FUELCONSUMPTION_HWY</th>\n",
       "      <th>FUELCONSUMPTION_COMB</th>\n",
       "      <th>FUELCONSUMPTION_COMB_MPG</th>\n",
       "      <th>CO2EMISSIONS</th>\n",
       "    </tr>\n",
       "  </thead>\n",
       "  <tbody>\n",
       "    <tr>\n",
       "      <th>0</th>\n",
       "      <td>2014</td>\n",
       "      <td>ACURA</td>\n",
       "      <td>ILX</td>\n",
       "      <td>COMPACT</td>\n",
       "      <td>2.0</td>\n",
       "      <td>4</td>\n",
       "      <td>AS5</td>\n",
       "      <td>Z</td>\n",
       "      <td>9.9</td>\n",
       "      <td>6.7</td>\n",
       "      <td>8.5</td>\n",
       "      <td>33</td>\n",
       "      <td>196</td>\n",
       "    </tr>\n",
       "    <tr>\n",
       "      <th>1</th>\n",
       "      <td>2014</td>\n",
       "      <td>ACURA</td>\n",
       "      <td>ILX</td>\n",
       "      <td>COMPACT</td>\n",
       "      <td>2.4</td>\n",
       "      <td>4</td>\n",
       "      <td>M6</td>\n",
       "      <td>Z</td>\n",
       "      <td>11.2</td>\n",
       "      <td>7.7</td>\n",
       "      <td>9.6</td>\n",
       "      <td>29</td>\n",
       "      <td>221</td>\n",
       "    </tr>\n",
       "    <tr>\n",
       "      <th>2</th>\n",
       "      <td>2014</td>\n",
       "      <td>ACURA</td>\n",
       "      <td>ILX HYBRID</td>\n",
       "      <td>COMPACT</td>\n",
       "      <td>1.5</td>\n",
       "      <td>4</td>\n",
       "      <td>AV7</td>\n",
       "      <td>Z</td>\n",
       "      <td>6.0</td>\n",
       "      <td>5.8</td>\n",
       "      <td>5.9</td>\n",
       "      <td>48</td>\n",
       "      <td>136</td>\n",
       "    </tr>\n",
       "    <tr>\n",
       "      <th>3</th>\n",
       "      <td>2014</td>\n",
       "      <td>ACURA</td>\n",
       "      <td>MDX 4WD</td>\n",
       "      <td>SUV - SMALL</td>\n",
       "      <td>3.5</td>\n",
       "      <td>6</td>\n",
       "      <td>AS6</td>\n",
       "      <td>Z</td>\n",
       "      <td>12.7</td>\n",
       "      <td>9.1</td>\n",
       "      <td>11.1</td>\n",
       "      <td>25</td>\n",
       "      <td>255</td>\n",
       "    </tr>\n",
       "    <tr>\n",
       "      <th>4</th>\n",
       "      <td>2014</td>\n",
       "      <td>ACURA</td>\n",
       "      <td>RDX AWD</td>\n",
       "      <td>SUV - SMALL</td>\n",
       "      <td>3.5</td>\n",
       "      <td>6</td>\n",
       "      <td>AS6</td>\n",
       "      <td>Z</td>\n",
       "      <td>12.1</td>\n",
       "      <td>8.7</td>\n",
       "      <td>10.6</td>\n",
       "      <td>27</td>\n",
       "      <td>244</td>\n",
       "    </tr>\n",
       "  </tbody>\n",
       "</table>\n",
       "</div>"
      ],
      "text/plain": [
       "   MODELYEAR   MAKE       MODEL VEHICLECLASS  ENGINESIZE  CYLINDERS  \\\n",
       "0       2014  ACURA         ILX      COMPACT         2.0          4   \n",
       "1       2014  ACURA         ILX      COMPACT         2.4          4   \n",
       "2       2014  ACURA  ILX HYBRID      COMPACT         1.5          4   \n",
       "3       2014  ACURA     MDX 4WD  SUV - SMALL         3.5          6   \n",
       "4       2014  ACURA     RDX AWD  SUV - SMALL         3.5          6   \n",
       "\n",
       "  TRANSMISSION FUELTYPE  FUELCONSUMPTION_CITY  FUELCONSUMPTION_HWY  \\\n",
       "0          AS5        Z                   9.9                  6.7   \n",
       "1           M6        Z                  11.2                  7.7   \n",
       "2          AV7        Z                   6.0                  5.8   \n",
       "3          AS6        Z                  12.7                  9.1   \n",
       "4          AS6        Z                  12.1                  8.7   \n",
       "\n",
       "   FUELCONSUMPTION_COMB  FUELCONSUMPTION_COMB_MPG  CO2EMISSIONS  \n",
       "0                   8.5                        33           196  \n",
       "1                   9.6                        29           221  \n",
       "2                   5.9                        48           136  \n",
       "3                  11.1                        25           255  \n",
       "4                  10.6                        27           244  "
      ]
     },
     "execution_count": 25,
     "metadata": {},
     "output_type": "execute_result"
    }
   ],
   "source": [
    "df = pd.read_csv(\"FuelConsumption.csv\")\n",
    "\n",
    "# take a look at the dataset\n",
    "df.head()\n",
    "\n"
   ]
  },
  {
   "cell_type": "markdown",
   "metadata": {
    "button": false,
    "deletable": true,
    "new_sheet": false,
    "run_control": {
     "read_only": false
    }
   },
   "source": [
    "<h2 id=\"data_exploration\">Data Exploration</h2>\n",
    "Lets first have a descriptive exploration on our data."
   ]
  },
  {
   "cell_type": "markdown",
   "metadata": {},
   "source": [
    "## Here I add GroupBy 'Pandas' to check each make __Omair__\n",
    "\n",
    "> Pandas is a great library for ML and calc. in general"
   ]
  },
  {
   "cell_type": "code",
   "execution_count": 26,
   "metadata": {},
   "outputs": [
    {
     "data": {
      "text/html": [
       "<div>\n",
       "<style scoped>\n",
       "    .dataframe tbody tr th:only-of-type {\n",
       "        vertical-align: middle;\n",
       "    }\n",
       "\n",
       "    .dataframe tbody tr th {\n",
       "        vertical-align: top;\n",
       "    }\n",
       "\n",
       "    .dataframe thead th {\n",
       "        text-align: right;\n",
       "    }\n",
       "</style>\n",
       "<table border=\"1\" class=\"dataframe\">\n",
       "  <thead>\n",
       "    <tr style=\"text-align: right;\">\n",
       "      <th></th>\n",
       "      <th>MODELYEAR</th>\n",
       "      <th>ENGINESIZE</th>\n",
       "      <th>CYLINDERS</th>\n",
       "      <th>FUELCONSUMPTION_CITY</th>\n",
       "      <th>FUELCONSUMPTION_HWY</th>\n",
       "      <th>FUELCONSUMPTION_COMB</th>\n",
       "      <th>FUELCONSUMPTION_COMB_MPG</th>\n",
       "      <th>CO2EMISSIONS</th>\n",
       "    </tr>\n",
       "    <tr>\n",
       "      <th>MAKE</th>\n",
       "      <th></th>\n",
       "      <th></th>\n",
       "      <th></th>\n",
       "      <th></th>\n",
       "      <th></th>\n",
       "      <th></th>\n",
       "      <th></th>\n",
       "      <th></th>\n",
       "    </tr>\n",
       "  </thead>\n",
       "  <tbody>\n",
       "    <tr>\n",
       "      <th>ACURA</th>\n",
       "      <td>24168</td>\n",
       "      <td>35.6</td>\n",
       "      <td>62</td>\n",
       "      <td>135.7</td>\n",
       "      <td>96.2</td>\n",
       "      <td>117.9</td>\n",
       "      <td>354</td>\n",
       "      <td>2712</td>\n",
       "    </tr>\n",
       "    <tr>\n",
       "      <th>ASTON MARTIN</th>\n",
       "      <td>14098</td>\n",
       "      <td>36.5</td>\n",
       "      <td>68</td>\n",
       "      <td>125.0</td>\n",
       "      <td>84.8</td>\n",
       "      <td>107.0</td>\n",
       "      <td>128</td>\n",
       "      <td>2461</td>\n",
       "    </tr>\n",
       "    <tr>\n",
       "      <th>AUDI</th>\n",
       "      <td>98686</td>\n",
       "      <td>158.3</td>\n",
       "      <td>312</td>\n",
       "      <td>675.7</td>\n",
       "      <td>458.2</td>\n",
       "      <td>577.9</td>\n",
       "      <td>1222</td>\n",
       "      <td>13509</td>\n",
       "    </tr>\n",
       "    <tr>\n",
       "      <th>BENTLEY</th>\n",
       "      <td>16112</td>\n",
       "      <td>42.8</td>\n",
       "      <td>80</td>\n",
       "      <td>150.0</td>\n",
       "      <td>93.7</td>\n",
       "      <td>124.8</td>\n",
       "      <td>146</td>\n",
       "      <td>2872</td>\n",
       "    </tr>\n",
       "    <tr>\n",
       "      <th>BMW</th>\n",
       "      <td>128896</td>\n",
       "      <td>204.0</td>\n",
       "      <td>392</td>\n",
       "      <td>816.2</td>\n",
       "      <td>553.5</td>\n",
       "      <td>698.1</td>\n",
       "      <td>1720</td>\n",
       "      <td>16135</td>\n",
       "    </tr>\n",
       "    <tr>\n",
       "      <th>BUICK</th>\n",
       "      <td>32224</td>\n",
       "      <td>41.6</td>\n",
       "      <td>76</td>\n",
       "      <td>202.8</td>\n",
       "      <td>138.0</td>\n",
       "      <td>173.7</td>\n",
       "      <td>434</td>\n",
       "      <td>3771</td>\n",
       "    </tr>\n",
       "    <tr>\n",
       "      <th>CADILLAC</th>\n",
       "      <td>64448</td>\n",
       "      <td>130.9</td>\n",
       "      <td>200</td>\n",
       "      <td>481.3</td>\n",
       "      <td>328.3</td>\n",
       "      <td>412.7</td>\n",
       "      <td>732</td>\n",
       "      <td>9195</td>\n",
       "    </tr>\n",
       "    <tr>\n",
       "      <th>CHEVROLET</th>\n",
       "      <td>173204</td>\n",
       "      <td>326.7</td>\n",
       "      <td>528</td>\n",
       "      <td>1303.1</td>\n",
       "      <td>923.1</td>\n",
       "      <td>1132.4</td>\n",
       "      <td>2098</td>\n",
       "      <td>23472</td>\n",
       "    </tr>\n",
       "    <tr>\n",
       "      <th>CHRYSLER</th>\n",
       "      <td>38266</td>\n",
       "      <td>70.6</td>\n",
       "      <td>112</td>\n",
       "      <td>273.7</td>\n",
       "      <td>177.4</td>\n",
       "      <td>230.3</td>\n",
       "      <td>454</td>\n",
       "      <td>4776</td>\n",
       "    </tr>\n",
       "    <tr>\n",
       "      <th>DODGE</th>\n",
       "      <td>78546</td>\n",
       "      <td>141.7</td>\n",
       "      <td>226</td>\n",
       "      <td>542.4</td>\n",
       "      <td>357.9</td>\n",
       "      <td>459.6</td>\n",
       "      <td>978</td>\n",
       "      <td>9734</td>\n",
       "    </tr>\n",
       "    <tr>\n",
       "      <th>FIAT</th>\n",
       "      <td>20140</td>\n",
       "      <td>14.0</td>\n",
       "      <td>40</td>\n",
       "      <td>86.2</td>\n",
       "      <td>68.0</td>\n",
       "      <td>78.1</td>\n",
       "      <td>363</td>\n",
       "      <td>1795</td>\n",
       "    </tr>\n",
       "    <tr>\n",
       "      <th>FORD</th>\n",
       "      <td>181260</td>\n",
       "      <td>307.3</td>\n",
       "      <td>524</td>\n",
       "      <td>1310.5</td>\n",
       "      <td>957.2</td>\n",
       "      <td>1151.9</td>\n",
       "      <td>2216</td>\n",
       "      <td>23936</td>\n",
       "    </tr>\n",
       "    <tr>\n",
       "      <th>GMC</th>\n",
       "      <td>98686</td>\n",
       "      <td>245.9</td>\n",
       "      <td>362</td>\n",
       "      <td>940.8</td>\n",
       "      <td>673.6</td>\n",
       "      <td>821.0</td>\n",
       "      <td>866</td>\n",
       "      <td>16084</td>\n",
       "    </tr>\n",
       "    <tr>\n",
       "      <th>HONDA</th>\n",
       "      <td>42294</td>\n",
       "      <td>53.4</td>\n",
       "      <td>100</td>\n",
       "      <td>211.7</td>\n",
       "      <td>154.9</td>\n",
       "      <td>186.0</td>\n",
       "      <td>709</td>\n",
       "      <td>4278</td>\n",
       "    </tr>\n",
       "    <tr>\n",
       "      <th>HYUNDAI</th>\n",
       "      <td>48336</td>\n",
       "      <td>55.8</td>\n",
       "      <td>106</td>\n",
       "      <td>256.6</td>\n",
       "      <td>190.1</td>\n",
       "      <td>226.6</td>\n",
       "      <td>742</td>\n",
       "      <td>5214</td>\n",
       "    </tr>\n",
       "    <tr>\n",
       "      <th>INFINITI</th>\n",
       "      <td>42294</td>\n",
       "      <td>82.5</td>\n",
       "      <td>132</td>\n",
       "      <td>267.7</td>\n",
       "      <td>193.6</td>\n",
       "      <td>234.4</td>\n",
       "      <td>549</td>\n",
       "      <td>5392</td>\n",
       "    </tr>\n",
       "    <tr>\n",
       "      <th>JAGUAR</th>\n",
       "      <td>44308</td>\n",
       "      <td>97.0</td>\n",
       "      <td>162</td>\n",
       "      <td>345.3</td>\n",
       "      <td>230.6</td>\n",
       "      <td>294.2</td>\n",
       "      <td>474</td>\n",
       "      <td>6395</td>\n",
       "    </tr>\n",
       "    <tr>\n",
       "      <th>JEEP</th>\n",
       "      <td>62434</td>\n",
       "      <td>91.1</td>\n",
       "      <td>154</td>\n",
       "      <td>385.3</td>\n",
       "      <td>290.6</td>\n",
       "      <td>342.6</td>\n",
       "      <td>812</td>\n",
       "      <td>7805</td>\n",
       "    </tr>\n",
       "    <tr>\n",
       "      <th>KIA</th>\n",
       "      <td>66462</td>\n",
       "      <td>69.8</td>\n",
       "      <td>140</td>\n",
       "      <td>355.3</td>\n",
       "      <td>258.6</td>\n",
       "      <td>312.1</td>\n",
       "      <td>1003</td>\n",
       "      <td>7178</td>\n",
       "    </tr>\n",
       "    <tr>\n",
       "      <th>LAMBORGHINI</th>\n",
       "      <td>6042</td>\n",
       "      <td>16.9</td>\n",
       "      <td>32</td>\n",
       "      <td>61.4</td>\n",
       "      <td>39.2</td>\n",
       "      <td>51.4</td>\n",
       "      <td>49</td>\n",
       "      <td>1182</td>\n",
       "    </tr>\n",
       "    <tr>\n",
       "      <th>LAND ROVER</th>\n",
       "      <td>38266</td>\n",
       "      <td>72.0</td>\n",
       "      <td>126</td>\n",
       "      <td>326.1</td>\n",
       "      <td>232.7</td>\n",
       "      <td>284.3</td>\n",
       "      <td>377</td>\n",
       "      <td>5849</td>\n",
       "    </tr>\n",
       "    <tr>\n",
       "      <th>LEXUS</th>\n",
       "      <td>44308</td>\n",
       "      <td>80.9</td>\n",
       "      <td>142</td>\n",
       "      <td>265.6</td>\n",
       "      <td>199.1</td>\n",
       "      <td>235.7</td>\n",
       "      <td>615</td>\n",
       "      <td>5423</td>\n",
       "    </tr>\n",
       "    <tr>\n",
       "      <th>LINCOLN</th>\n",
       "      <td>22154</td>\n",
       "      <td>38.6</td>\n",
       "      <td>64</td>\n",
       "      <td>153.3</td>\n",
       "      <td>111.7</td>\n",
       "      <td>134.8</td>\n",
       "      <td>277</td>\n",
       "      <td>2950</td>\n",
       "    </tr>\n",
       "    <tr>\n",
       "      <th>MASERATI</th>\n",
       "      <td>12084</td>\n",
       "      <td>22.2</td>\n",
       "      <td>42</td>\n",
       "      <td>100.3</td>\n",
       "      <td>62.7</td>\n",
       "      <td>83.4</td>\n",
       "      <td>122</td>\n",
       "      <td>1918</td>\n",
       "    </tr>\n",
       "    <tr>\n",
       "      <th>MAZDA</th>\n",
       "      <td>54378</td>\n",
       "      <td>61.9</td>\n",
       "      <td>112</td>\n",
       "      <td>255.0</td>\n",
       "      <td>191.6</td>\n",
       "      <td>226.5</td>\n",
       "      <td>934</td>\n",
       "      <td>5212</td>\n",
       "    </tr>\n",
       "    <tr>\n",
       "      <th>MERCEDES-BENZ</th>\n",
       "      <td>118826</td>\n",
       "      <td>248.6</td>\n",
       "      <td>398</td>\n",
       "      <td>820.2</td>\n",
       "      <td>586.0</td>\n",
       "      <td>714.8</td>\n",
       "      <td>1440</td>\n",
       "      <td>16383</td>\n",
       "    </tr>\n",
       "    <tr>\n",
       "      <th>MINI</th>\n",
       "      <td>72504</td>\n",
       "      <td>57.6</td>\n",
       "      <td>144</td>\n",
       "      <td>328.8</td>\n",
       "      <td>253.4</td>\n",
       "      <td>295.1</td>\n",
       "      <td>1236</td>\n",
       "      <td>6787</td>\n",
       "    </tr>\n",
       "    <tr>\n",
       "      <th>MITSUBISHI</th>\n",
       "      <td>32224</td>\n",
       "      <td>32.6</td>\n",
       "      <td>64</td>\n",
       "      <td>163.9</td>\n",
       "      <td>124.8</td>\n",
       "      <td>146.4</td>\n",
       "      <td>512</td>\n",
       "      <td>3368</td>\n",
       "    </tr>\n",
       "    <tr>\n",
       "      <th>NISSAN</th>\n",
       "      <td>66462</td>\n",
       "      <td>105.0</td>\n",
       "      <td>176</td>\n",
       "      <td>405.4</td>\n",
       "      <td>305.7</td>\n",
       "      <td>360.7</td>\n",
       "      <td>907</td>\n",
       "      <td>8296</td>\n",
       "    </tr>\n",
       "    <tr>\n",
       "      <th>PORSCHE</th>\n",
       "      <td>88616</td>\n",
       "      <td>159.2</td>\n",
       "      <td>276</td>\n",
       "      <td>571.4</td>\n",
       "      <td>397.5</td>\n",
       "      <td>493.3</td>\n",
       "      <td>1123</td>\n",
       "      <td>11389</td>\n",
       "    </tr>\n",
       "    <tr>\n",
       "      <th>RAM</th>\n",
       "      <td>26182</td>\n",
       "      <td>54.0</td>\n",
       "      <td>86</td>\n",
       "      <td>203.7</td>\n",
       "      <td>143.1</td>\n",
       "      <td>176.4</td>\n",
       "      <td>280</td>\n",
       "      <td>3786</td>\n",
       "    </tr>\n",
       "    <tr>\n",
       "      <th>ROLLS-ROYCE</th>\n",
       "      <td>14098</td>\n",
       "      <td>46.6</td>\n",
       "      <td>84</td>\n",
       "      <td>139.7</td>\n",
       "      <td>87.4</td>\n",
       "      <td>116.0</td>\n",
       "      <td>122</td>\n",
       "      <td>2667</td>\n",
       "    </tr>\n",
       "    <tr>\n",
       "      <th>SCION</th>\n",
       "      <td>18126</td>\n",
       "      <td>18.7</td>\n",
       "      <td>36</td>\n",
       "      <td>86.7</td>\n",
       "      <td>67.0</td>\n",
       "      <td>77.8</td>\n",
       "      <td>301</td>\n",
       "      <td>1790</td>\n",
       "    </tr>\n",
       "    <tr>\n",
       "      <th>SMART</th>\n",
       "      <td>4028</td>\n",
       "      <td>2.0</td>\n",
       "      <td>6</td>\n",
       "      <td>13.8</td>\n",
       "      <td>11.4</td>\n",
       "      <td>12.8</td>\n",
       "      <td>88</td>\n",
       "      <td>294</td>\n",
       "    </tr>\n",
       "    <tr>\n",
       "      <th>SRT</th>\n",
       "      <td>4028</td>\n",
       "      <td>16.8</td>\n",
       "      <td>20</td>\n",
       "      <td>40.0</td>\n",
       "      <td>26.0</td>\n",
       "      <td>33.8</td>\n",
       "      <td>34</td>\n",
       "      <td>778</td>\n",
       "    </tr>\n",
       "    <tr>\n",
       "      <th>SUBARU</th>\n",
       "      <td>46322</td>\n",
       "      <td>55.8</td>\n",
       "      <td>98</td>\n",
       "      <td>252.4</td>\n",
       "      <td>191.0</td>\n",
       "      <td>225.0</td>\n",
       "      <td>681</td>\n",
       "      <td>5178</td>\n",
       "    </tr>\n",
       "    <tr>\n",
       "      <th>TOYOTA</th>\n",
       "      <td>98686</td>\n",
       "      <td>149.7</td>\n",
       "      <td>252</td>\n",
       "      <td>554.6</td>\n",
       "      <td>435.1</td>\n",
       "      <td>501.0</td>\n",
       "      <td>1497</td>\n",
       "      <td>11524</td>\n",
       "    </tr>\n",
       "    <tr>\n",
       "      <th>VOLKSWAGEN</th>\n",
       "      <td>84588</td>\n",
       "      <td>92.9</td>\n",
       "      <td>185</td>\n",
       "      <td>437.8</td>\n",
       "      <td>315.0</td>\n",
       "      <td>382.9</td>\n",
       "      <td>1338</td>\n",
       "      <td>9072</td>\n",
       "    </tr>\n",
       "    <tr>\n",
       "      <th>VOLVO</th>\n",
       "      <td>22154</td>\n",
       "      <td>33.0</td>\n",
       "      <td>64</td>\n",
       "      <td>142.0</td>\n",
       "      <td>100.7</td>\n",
       "      <td>123.4</td>\n",
       "      <td>280</td>\n",
       "      <td>2836</td>\n",
       "    </tr>\n",
       "  </tbody>\n",
       "</table>\n",
       "</div>"
      ],
      "text/plain": [
       "               MODELYEAR  ENGINESIZE  CYLINDERS  FUELCONSUMPTION_CITY  \\\n",
       "MAKE                                                                    \n",
       "ACURA              24168        35.6         62                 135.7   \n",
       "ASTON MARTIN       14098        36.5         68                 125.0   \n",
       "AUDI               98686       158.3        312                 675.7   \n",
       "BENTLEY            16112        42.8         80                 150.0   \n",
       "BMW               128896       204.0        392                 816.2   \n",
       "BUICK              32224        41.6         76                 202.8   \n",
       "CADILLAC           64448       130.9        200                 481.3   \n",
       "CHEVROLET         173204       326.7        528                1303.1   \n",
       "CHRYSLER           38266        70.6        112                 273.7   \n",
       "DODGE              78546       141.7        226                 542.4   \n",
       "FIAT               20140        14.0         40                  86.2   \n",
       "FORD              181260       307.3        524                1310.5   \n",
       "GMC                98686       245.9        362                 940.8   \n",
       "HONDA              42294        53.4        100                 211.7   \n",
       "HYUNDAI            48336        55.8        106                 256.6   \n",
       "INFINITI           42294        82.5        132                 267.7   \n",
       "JAGUAR             44308        97.0        162                 345.3   \n",
       "JEEP               62434        91.1        154                 385.3   \n",
       "KIA                66462        69.8        140                 355.3   \n",
       "LAMBORGHINI         6042        16.9         32                  61.4   \n",
       "LAND ROVER         38266        72.0        126                 326.1   \n",
       "LEXUS              44308        80.9        142                 265.6   \n",
       "LINCOLN            22154        38.6         64                 153.3   \n",
       "MASERATI           12084        22.2         42                 100.3   \n",
       "MAZDA              54378        61.9        112                 255.0   \n",
       "MERCEDES-BENZ     118826       248.6        398                 820.2   \n",
       "MINI               72504        57.6        144                 328.8   \n",
       "MITSUBISHI         32224        32.6         64                 163.9   \n",
       "NISSAN             66462       105.0        176                 405.4   \n",
       "PORSCHE            88616       159.2        276                 571.4   \n",
       "RAM                26182        54.0         86                 203.7   \n",
       "ROLLS-ROYCE        14098        46.6         84                 139.7   \n",
       "SCION              18126        18.7         36                  86.7   \n",
       "SMART               4028         2.0          6                  13.8   \n",
       "SRT                 4028        16.8         20                  40.0   \n",
       "SUBARU             46322        55.8         98                 252.4   \n",
       "TOYOTA             98686       149.7        252                 554.6   \n",
       "VOLKSWAGEN         84588        92.9        185                 437.8   \n",
       "VOLVO              22154        33.0         64                 142.0   \n",
       "\n",
       "               FUELCONSUMPTION_HWY  FUELCONSUMPTION_COMB  \\\n",
       "MAKE                                                       \n",
       "ACURA                         96.2                 117.9   \n",
       "ASTON MARTIN                  84.8                 107.0   \n",
       "AUDI                         458.2                 577.9   \n",
       "BENTLEY                       93.7                 124.8   \n",
       "BMW                          553.5                 698.1   \n",
       "BUICK                        138.0                 173.7   \n",
       "CADILLAC                     328.3                 412.7   \n",
       "CHEVROLET                    923.1                1132.4   \n",
       "CHRYSLER                     177.4                 230.3   \n",
       "DODGE                        357.9                 459.6   \n",
       "FIAT                          68.0                  78.1   \n",
       "FORD                         957.2                1151.9   \n",
       "GMC                          673.6                 821.0   \n",
       "HONDA                        154.9                 186.0   \n",
       "HYUNDAI                      190.1                 226.6   \n",
       "INFINITI                     193.6                 234.4   \n",
       "JAGUAR                       230.6                 294.2   \n",
       "JEEP                         290.6                 342.6   \n",
       "KIA                          258.6                 312.1   \n",
       "LAMBORGHINI                   39.2                  51.4   \n",
       "LAND ROVER                   232.7                 284.3   \n",
       "LEXUS                        199.1                 235.7   \n",
       "LINCOLN                      111.7                 134.8   \n",
       "MASERATI                      62.7                  83.4   \n",
       "MAZDA                        191.6                 226.5   \n",
       "MERCEDES-BENZ                586.0                 714.8   \n",
       "MINI                         253.4                 295.1   \n",
       "MITSUBISHI                   124.8                 146.4   \n",
       "NISSAN                       305.7                 360.7   \n",
       "PORSCHE                      397.5                 493.3   \n",
       "RAM                          143.1                 176.4   \n",
       "ROLLS-ROYCE                   87.4                 116.0   \n",
       "SCION                         67.0                  77.8   \n",
       "SMART                         11.4                  12.8   \n",
       "SRT                           26.0                  33.8   \n",
       "SUBARU                       191.0                 225.0   \n",
       "TOYOTA                       435.1                 501.0   \n",
       "VOLKSWAGEN                   315.0                 382.9   \n",
       "VOLVO                        100.7                 123.4   \n",
       "\n",
       "               FUELCONSUMPTION_COMB_MPG  CO2EMISSIONS  \n",
       "MAKE                                                   \n",
       "ACURA                               354          2712  \n",
       "ASTON MARTIN                        128          2461  \n",
       "AUDI                               1222         13509  \n",
       "BENTLEY                             146          2872  \n",
       "BMW                                1720         16135  \n",
       "BUICK                               434          3771  \n",
       "CADILLAC                            732          9195  \n",
       "CHEVROLET                          2098         23472  \n",
       "CHRYSLER                            454          4776  \n",
       "DODGE                               978          9734  \n",
       "FIAT                                363          1795  \n",
       "FORD                               2216         23936  \n",
       "GMC                                 866         16084  \n",
       "HONDA                               709          4278  \n",
       "HYUNDAI                             742          5214  \n",
       "INFINITI                            549          5392  \n",
       "JAGUAR                              474          6395  \n",
       "JEEP                                812          7805  \n",
       "KIA                                1003          7178  \n",
       "LAMBORGHINI                          49          1182  \n",
       "LAND ROVER                          377          5849  \n",
       "LEXUS                               615          5423  \n",
       "LINCOLN                             277          2950  \n",
       "MASERATI                            122          1918  \n",
       "MAZDA                               934          5212  \n",
       "MERCEDES-BENZ                      1440         16383  \n",
       "MINI                               1236          6787  \n",
       "MITSUBISHI                          512          3368  \n",
       "NISSAN                              907          8296  \n",
       "PORSCHE                            1123         11389  \n",
       "RAM                                 280          3786  \n",
       "ROLLS-ROYCE                         122          2667  \n",
       "SCION                               301          1790  \n",
       "SMART                                88           294  \n",
       "SRT                                  34           778  \n",
       "SUBARU                              681          5178  \n",
       "TOYOTA                             1497         11524  \n",
       "VOLKSWAGEN                         1338          9072  \n",
       "VOLVO                               280          2836  "
      ]
     },
     "execution_count": 26,
     "metadata": {},
     "output_type": "execute_result"
    }
   ],
   "source": [
    "df.groupby('MAKE').sum()\n"
   ]
  },
  {
   "cell_type": "code",
   "execution_count": 27,
   "metadata": {
    "button": false,
    "deletable": true,
    "new_sheet": false,
    "run_control": {
     "read_only": false
    }
   },
   "outputs": [
    {
     "data": {
      "text/html": [
       "<div>\n",
       "<style scoped>\n",
       "    .dataframe tbody tr th:only-of-type {\n",
       "        vertical-align: middle;\n",
       "    }\n",
       "\n",
       "    .dataframe tbody tr th {\n",
       "        vertical-align: top;\n",
       "    }\n",
       "\n",
       "    .dataframe thead th {\n",
       "        text-align: right;\n",
       "    }\n",
       "</style>\n",
       "<table border=\"1\" class=\"dataframe\">\n",
       "  <thead>\n",
       "    <tr style=\"text-align: right;\">\n",
       "      <th></th>\n",
       "      <th>MODELYEAR</th>\n",
       "      <th>ENGINESIZE</th>\n",
       "      <th>CYLINDERS</th>\n",
       "      <th>FUELCONSUMPTION_CITY</th>\n",
       "      <th>FUELCONSUMPTION_HWY</th>\n",
       "      <th>FUELCONSUMPTION_COMB</th>\n",
       "      <th>FUELCONSUMPTION_COMB_MPG</th>\n",
       "      <th>CO2EMISSIONS</th>\n",
       "    </tr>\n",
       "  </thead>\n",
       "  <tbody>\n",
       "    <tr>\n",
       "      <th>count</th>\n",
       "      <td>1067.0</td>\n",
       "      <td>1067.000000</td>\n",
       "      <td>1067.000000</td>\n",
       "      <td>1067.000000</td>\n",
       "      <td>1067.000000</td>\n",
       "      <td>1067.000000</td>\n",
       "      <td>1067.000000</td>\n",
       "      <td>1067.000000</td>\n",
       "    </tr>\n",
       "    <tr>\n",
       "      <th>mean</th>\n",
       "      <td>2014.0</td>\n",
       "      <td>3.346298</td>\n",
       "      <td>5.794752</td>\n",
       "      <td>13.296532</td>\n",
       "      <td>9.474602</td>\n",
       "      <td>11.580881</td>\n",
       "      <td>26.441425</td>\n",
       "      <td>256.228679</td>\n",
       "    </tr>\n",
       "    <tr>\n",
       "      <th>std</th>\n",
       "      <td>0.0</td>\n",
       "      <td>1.415895</td>\n",
       "      <td>1.797447</td>\n",
       "      <td>4.101253</td>\n",
       "      <td>2.794510</td>\n",
       "      <td>3.485595</td>\n",
       "      <td>7.468702</td>\n",
       "      <td>63.372304</td>\n",
       "    </tr>\n",
       "    <tr>\n",
       "      <th>min</th>\n",
       "      <td>2014.0</td>\n",
       "      <td>1.000000</td>\n",
       "      <td>3.000000</td>\n",
       "      <td>4.600000</td>\n",
       "      <td>4.900000</td>\n",
       "      <td>4.700000</td>\n",
       "      <td>11.000000</td>\n",
       "      <td>108.000000</td>\n",
       "    </tr>\n",
       "    <tr>\n",
       "      <th>25%</th>\n",
       "      <td>2014.0</td>\n",
       "      <td>2.000000</td>\n",
       "      <td>4.000000</td>\n",
       "      <td>10.250000</td>\n",
       "      <td>7.500000</td>\n",
       "      <td>9.000000</td>\n",
       "      <td>21.000000</td>\n",
       "      <td>207.000000</td>\n",
       "    </tr>\n",
       "    <tr>\n",
       "      <th>50%</th>\n",
       "      <td>2014.0</td>\n",
       "      <td>3.400000</td>\n",
       "      <td>6.000000</td>\n",
       "      <td>12.600000</td>\n",
       "      <td>8.800000</td>\n",
       "      <td>10.900000</td>\n",
       "      <td>26.000000</td>\n",
       "      <td>251.000000</td>\n",
       "    </tr>\n",
       "    <tr>\n",
       "      <th>75%</th>\n",
       "      <td>2014.0</td>\n",
       "      <td>4.300000</td>\n",
       "      <td>8.000000</td>\n",
       "      <td>15.550000</td>\n",
       "      <td>10.850000</td>\n",
       "      <td>13.350000</td>\n",
       "      <td>31.000000</td>\n",
       "      <td>294.000000</td>\n",
       "    </tr>\n",
       "    <tr>\n",
       "      <th>max</th>\n",
       "      <td>2014.0</td>\n",
       "      <td>8.400000</td>\n",
       "      <td>12.000000</td>\n",
       "      <td>30.200000</td>\n",
       "      <td>20.500000</td>\n",
       "      <td>25.800000</td>\n",
       "      <td>60.000000</td>\n",
       "      <td>488.000000</td>\n",
       "    </tr>\n",
       "  </tbody>\n",
       "</table>\n",
       "</div>"
      ],
      "text/plain": [
       "       MODELYEAR   ENGINESIZE    CYLINDERS  FUELCONSUMPTION_CITY  \\\n",
       "count     1067.0  1067.000000  1067.000000           1067.000000   \n",
       "mean      2014.0     3.346298     5.794752             13.296532   \n",
       "std          0.0     1.415895     1.797447              4.101253   \n",
       "min       2014.0     1.000000     3.000000              4.600000   \n",
       "25%       2014.0     2.000000     4.000000             10.250000   \n",
       "50%       2014.0     3.400000     6.000000             12.600000   \n",
       "75%       2014.0     4.300000     8.000000             15.550000   \n",
       "max       2014.0     8.400000    12.000000             30.200000   \n",
       "\n",
       "       FUELCONSUMPTION_HWY  FUELCONSUMPTION_COMB  FUELCONSUMPTION_COMB_MPG  \\\n",
       "count          1067.000000           1067.000000               1067.000000   \n",
       "mean              9.474602             11.580881                 26.441425   \n",
       "std               2.794510              3.485595                  7.468702   \n",
       "min               4.900000              4.700000                 11.000000   \n",
       "25%               7.500000              9.000000                 21.000000   \n",
       "50%               8.800000             10.900000                 26.000000   \n",
       "75%              10.850000             13.350000                 31.000000   \n",
       "max              20.500000             25.800000                 60.000000   \n",
       "\n",
       "       CO2EMISSIONS  \n",
       "count   1067.000000  \n",
       "mean     256.228679  \n",
       "std       63.372304  \n",
       "min      108.000000  \n",
       "25%      207.000000  \n",
       "50%      251.000000  \n",
       "75%      294.000000  \n",
       "max      488.000000  "
      ]
     },
     "execution_count": 27,
     "metadata": {},
     "output_type": "execute_result"
    }
   ],
   "source": [
    "# summarize the data\n",
    "df.describe()"
   ]
  },
  {
   "cell_type": "markdown",
   "metadata": {},
   "source": [
    "Lets select some features to explore more."
   ]
  },
  {
   "cell_type": "code",
   "execution_count": 28,
   "metadata": {
    "button": false,
    "deletable": true,
    "new_sheet": false,
    "run_control": {
     "read_only": false
    }
   },
   "outputs": [
    {
     "data": {
      "text/html": [
       "<div>\n",
       "<style scoped>\n",
       "    .dataframe tbody tr th:only-of-type {\n",
       "        vertical-align: middle;\n",
       "    }\n",
       "\n",
       "    .dataframe tbody tr th {\n",
       "        vertical-align: top;\n",
       "    }\n",
       "\n",
       "    .dataframe thead th {\n",
       "        text-align: right;\n",
       "    }\n",
       "</style>\n",
       "<table border=\"1\" class=\"dataframe\">\n",
       "  <thead>\n",
       "    <tr style=\"text-align: right;\">\n",
       "      <th></th>\n",
       "      <th>ENGINESIZE</th>\n",
       "      <th>CYLINDERS</th>\n",
       "      <th>FUELCONSUMPTION_COMB</th>\n",
       "      <th>CO2EMISSIONS</th>\n",
       "    </tr>\n",
       "  </thead>\n",
       "  <tbody>\n",
       "    <tr>\n",
       "      <th>0</th>\n",
       "      <td>2.0</td>\n",
       "      <td>4</td>\n",
       "      <td>8.5</td>\n",
       "      <td>196</td>\n",
       "    </tr>\n",
       "    <tr>\n",
       "      <th>1</th>\n",
       "      <td>2.4</td>\n",
       "      <td>4</td>\n",
       "      <td>9.6</td>\n",
       "      <td>221</td>\n",
       "    </tr>\n",
       "    <tr>\n",
       "      <th>2</th>\n",
       "      <td>1.5</td>\n",
       "      <td>4</td>\n",
       "      <td>5.9</td>\n",
       "      <td>136</td>\n",
       "    </tr>\n",
       "    <tr>\n",
       "      <th>3</th>\n",
       "      <td>3.5</td>\n",
       "      <td>6</td>\n",
       "      <td>11.1</td>\n",
       "      <td>255</td>\n",
       "    </tr>\n",
       "    <tr>\n",
       "      <th>4</th>\n",
       "      <td>3.5</td>\n",
       "      <td>6</td>\n",
       "      <td>10.6</td>\n",
       "      <td>244</td>\n",
       "    </tr>\n",
       "    <tr>\n",
       "      <th>5</th>\n",
       "      <td>3.5</td>\n",
       "      <td>6</td>\n",
       "      <td>10.0</td>\n",
       "      <td>230</td>\n",
       "    </tr>\n",
       "    <tr>\n",
       "      <th>6</th>\n",
       "      <td>3.5</td>\n",
       "      <td>6</td>\n",
       "      <td>10.1</td>\n",
       "      <td>232</td>\n",
       "    </tr>\n",
       "    <tr>\n",
       "      <th>7</th>\n",
       "      <td>3.7</td>\n",
       "      <td>6</td>\n",
       "      <td>11.1</td>\n",
       "      <td>255</td>\n",
       "    </tr>\n",
       "    <tr>\n",
       "      <th>8</th>\n",
       "      <td>3.7</td>\n",
       "      <td>6</td>\n",
       "      <td>11.6</td>\n",
       "      <td>267</td>\n",
       "    </tr>\n",
       "  </tbody>\n",
       "</table>\n",
       "</div>"
      ],
      "text/plain": [
       "   ENGINESIZE  CYLINDERS  FUELCONSUMPTION_COMB  CO2EMISSIONS\n",
       "0         2.0          4                   8.5           196\n",
       "1         2.4          4                   9.6           221\n",
       "2         1.5          4                   5.9           136\n",
       "3         3.5          6                  11.1           255\n",
       "4         3.5          6                  10.6           244\n",
       "5         3.5          6                  10.0           230\n",
       "6         3.5          6                  10.1           232\n",
       "7         3.7          6                  11.1           255\n",
       "8         3.7          6                  11.6           267"
      ]
     },
     "execution_count": 28,
     "metadata": {},
     "output_type": "execute_result"
    }
   ],
   "source": [
    "cdf = df[['ENGINESIZE','CYLINDERS','FUELCONSUMPTION_COMB','CO2EMISSIONS']]\n",
    "cdf.head(9)"
   ]
  },
  {
   "cell_type": "markdown",
   "metadata": {},
   "source": [
    "we can plot each of these features:"
   ]
  },
  {
   "cell_type": "code",
   "execution_count": 29,
   "metadata": {
    "button": false,
    "deletable": true,
    "new_sheet": false,
    "run_control": {
     "read_only": false
    }
   },
   "outputs": [
    {
     "data": {
      "image/png": "[encoded data removed]",
      "text/plain": [
       "<Figure size 432x288 with 4 Axes>"
      ]
     },
     "metadata": {
      "needs_background": "light"
     },
     "output_type": "display_data"
    }
   ],
   "source": [
    "viz = cdf[['CYLINDERS','ENGINESIZE','CO2EMISSIONS','FUELCONSUMPTION_COMB']]\n",
    "viz.hist()\n",
    "plt.show()"
   ]
  },
  {
   "cell_type": "markdown",
   "metadata": {},
   "source": [
    "Now, lets plot each of these features vs the Emission, to see how linear is their relation:"
   ]
  },
  {
   "cell_type": "code",
   "execution_count": 30,
   "metadata": {
    "button": false,
    "deletable": true,
    "new_sheet": false,
    "run_control": {
     "read_only": false
    }
   },
   "outputs": [
    {
     "data": {
      "image/png": "[encoded data removed]",
      "text/plain": [
       "<Figure size 432x288 with 1 Axes>"
      ]
     },
     "metadata": {
      "needs_background": "light"
     },
     "output_type": "display_data"
    }
   ],
   "source": [
    "plt.scatter(cdf.FUELCONSUMPTION_COMB, cdf.CO2EMISSIONS,  color='blue')\n",
    "plt.xlabel(\"FUELCONSUMPTION_COMB\")\n",
    "plt.ylabel(\"Emission\")\n",
    "plt.show()"
   ]
  },
  {
   "cell_type": "code",
   "execution_count": 31,
   "metadata": {
    "button": false,
    "deletable": true,
    "new_sheet": false,
    "run_control": {
     "read_only": false
    },
    "scrolled": true
   },
   "outputs": [
    {
     "data": {
      "image/png": "[encoded data removed]",
      "text/plain": [
       "<Figure size 432x288 with 1 Axes>"
      ]
     },
     "metadata": {
      "needs_background": "light"
     },
     "output_type": "display_data"
    }
   ],
   "source": [
    "plt.scatter(cdf.ENGINESIZE, cdf.CO2EMISSIONS,  color='blue')\n",
    "plt.xlabel(\"Engine size\")\n",
    "plt.ylabel(\"Emission\")\n",
    "plt.show()\n"
   ]
  },
  {
   "cell_type": "markdown",
   "metadata": {},
   "source": [
    "## Practice\n",
    "plot __CYLINDER__ vs the Emission, to see how linear is their relation:"
   ]
  },
  {
   "cell_type": "code",
   "execution_count": 32,
   "metadata": {
    "button": false,
    "deletable": true,
    "new_sheet": false,
    "run_control": {
     "read_only": false
    }
   },
   "outputs": [
    {
     "data": {
      "image/png": "[encoded data removed]",
      "text/plain": [
       "<Figure size 432x288 with 1 Axes>"
      ]
     },
     "metadata": {
      "needs_background": "light"
     },
     "output_type": "display_data"
    }
   ],
   "source": [
    "# write your code here\n",
    "plt.scatter(cdf.CYLINDERS, cdf.CO2EMISSIONS,  color='blue')\n",
    "plt.xlabel(\"Engine size\")\n",
    "plt.ylabel(\"Emission\")\n",
    "plt.show()"
   ]
  },
  {
   "cell_type": "markdown",
   "metadata": {},
   "source": [
    "Double-click __here__ for the solution.\n",
    "\n",
    "<!-- Your answer is below:\n",
    "    \n",
    "plt.scatter(cdf.CYLINDERS, cdf.CO2EMISSIONS, color='blue')\n",
    "plt.xlabel(\"Cylinders\")\n",
    "plt.ylabel(\"Emission\")\n",
    "plt.show()\n",
    "\n",
    "-->"
   ]
  },
  {
   "cell_type": "markdown",
   "metadata": {
    "button": false,
    "deletable": true,
    "new_sheet": false,
    "run_control": {
     "read_only": false
    }
   },
   "source": [
    "#### Creating train and test dataset\n",
    "Train/Test Split involves splitting the dataset into training and testing sets respectively, which are mutually exclusive. After which, you train with the training set and test with the testing set. \n",
    "This will provide a more accurate evaluation on out-of-sample accuracy because the testing dataset is not part of the dataset that have been used to train the data. It is more realistic for real world problems.\n",
    "\n",
    "This means that we know the outcome of each data point in this dataset, making it great to test with! And since this data has not been used to train the model, the model has no knowledge of the outcome of these data points. So, in essence, it is truly an out-of-sample testing.\n",
    "\n",
    "Lets split our dataset into train and test sets, 80% of the entire data for training, and the 20% for testing. We create a mask to select random rows using __np.random.rand()__ function: "
   ]
  },
  {
   "cell_type": "code",
   "execution_count": 33,
   "metadata": {
    "button": false,
    "deletable": true,
    "new_sheet": false,
    "run_control": {
     "read_only": false
    }
   },
   "outputs": [],
   "source": [
    "msk = np.random.rand(len(df)) < 0.8\n",
    "train = cdf[msk]\n",
    "test = cdf[~msk]"
   ]
  },
  {
   "cell_type": "markdown",
   "metadata": {
    "button": false,
    "deletable": true,
    "new_sheet": false,
    "run_control": {
     "read_only": false
    }
   },
   "source": [
    "<h2 id=\"simple_regression\">Simple Regression Model</h2>\n",
    "Linear Regression fits a linear model with coefficients $\\theta = (\\theta_1, ..., \\theta_n)$ to minimize the 'residual sum of squares' between the independent x in the dataset, and the dependent y by the linear approximation. "
   ]
  },
  {
   "cell_type": "markdown",
   "metadata": {
    "button": false,
    "deletable": true,
    "new_sheet": false,
    "run_control": {
     "read_only": false
    }
   },
   "source": [
    "#### Train data distribution"
   ]
  },
  {
   "cell_type": "code",
   "execution_count": 34,
   "metadata": {
    "button": false,
    "deletable": true,
    "new_sheet": false,
    "run_control": {
     "read_only": false
    }
   },
   "outputs": [
    {
     "data": {
      "image/png": "[encoded data removed]",
      "text/plain": [
       "<Figure size 432x288 with 1 Axes>"
      ]
     },
     "metadata": {
      "needs_background": "light"
     },
     "output_type": "display_data"
    }
   ],
   "source": [
    "plt.scatter(train.ENGINESIZE, train.CO2EMISSIONS,  color='blue')\n",
    "plt.xlabel(\"Engine size\")\n",
    "plt.ylabel(\"Emission\")\n",
    "plt.show()"
   ]
  },
  {
   "cell_type": "markdown",
   "metadata": {
    "button": false,
    "deletable": true,
    "new_sheet": false,
    "run_control": {
     "read_only": false
    }
   },
   "source": [
    "#### Modeling\n",
    "Using sklearn package to model data."
   ]
  },
  {
   "cell_type": "code",
   "execution_count": 35,
   "metadata": {
    "button": false,
    "deletable": true,
    "new_sheet": false,
    "run_control": {
     "read_only": false
    }
   },
   "outputs": [
    {
     "name": "stdout",
     "output_type": "stream",
     "text": [
      "Coefficients:  [[39.63934914]]\n",
      "Intercept:  [123.39489519]\n"
     ]
    }
   ],
   "source": [
    "from sklearn import linear_model\n",
    "regr = linear_model.LinearRegression()\n",
    "train_x = np.asanyarray(train[['ENGINESIZE']])\n",
    "train_y = np.asanyarray(train[['CO2EMISSIONS']])\n",
    "regr.fit (train_x, train_y)\n",
    "# The coefficients\n",
    "print ('Coefficients: ', regr.coef_)\n",
    "print ('Intercept: ',regr.intercept_)"
   ]
  },
  {
   "cell_type": "markdown",
   "metadata": {},
   "source": [
    "As mentioned before, __Coefficient__ and __Intercept__ in the simple linear regression, are the parameters of the fit line. \n",
    "Given that it is a simple linear regression, with only 2 parameters, and knowing that the parameters are the intercept and slope of the line, sklearn can estimate them directly from our data. \n",
    "Notice that all of the data must be available to traverse and calculate the parameters.\n"
   ]
  },
  {
   "cell_type": "markdown",
   "metadata": {
    "button": false,
    "deletable": true,
    "new_sheet": false,
    "run_control": {
     "read_only": false
    }
   },
   "source": [
    "#### Plot outputs"
   ]
  },
  {
   "cell_type": "markdown",
   "metadata": {},
   "source": [
    "we can plot the fit line over the data:"
   ]
  },
  {
   "cell_type": "code",
   "execution_count": 36,
   "metadata": {
    "button": false,
    "deletable": true,
    "new_sheet": false,
    "run_control": {
     "read_only": false
    }
   },
   "outputs": [
    {
     "data": {
      "text/plain": [
       "Text(0, 0.5, 'Emission')"
      ]
     },
     "execution_count": 36,
     "metadata": {},
     "output_type": "execute_result"
    },
    {
     "data": {
      "image/png": "[encoded data removed]",
      "text/plain": [
       "<Figure size 432x288 with 1 Axes>"
      ]
     },
     "metadata": {
      "needs_background": "light"
     },
     "output_type": "display_data"
    }
   ],
   "source": [
    "plt.scatter(train.ENGINESIZE, train.CO2EMISSIONS,  color='blue')\n",
    "plt.plot(train_x, regr.coef_[0][0]*train_x + regr.intercept_[0], '-r')\n",
    "plt.xlabel(\"Engine size\")\n",
    "plt.ylabel(\"Emission\")"
   ]
  },
  {
   "cell_type": "markdown",
   "metadata": {
    "button": false,
    "deletable": true,
    "new_sheet": false,
    "run_control": {
     "read_only": false
    }
   },
   "source": [
    "#### Evaluation\n",
    "we compare the actual values and predicted values to calculate the accuracy of a regression model. Evaluation metrics provide a key role in the development of a model, as it provides insight to areas that require improvement.\n",
    "\n",
    "There are different model evaluation metrics, lets use MSE here to calculate the accuracy of our model based on the test set: \n",
    "<ul>\n",
    "    <li> Mean absolute error: It is the mean of the absolute value of the errors. This is the easiest of the metrics to understand since it’s just average error.</li>\n",
    "    <li> Mean Squared Error (MSE): Mean Squared Error (MSE) is the mean of the squared error. It’s more popular than Mean absolute error because the focus is geared more towards large errors. This is due to the squared term exponentially increasing larger errors in comparison to smaller ones.</li>\n",
    "    <li> Root Mean Squared Error (RMSE): This is the square root of the Mean Square Error. </li>\n",
    "    <li> R-squared is not error, but is a popular metric for accuracy of your model. It represents how close the data are to the fitted regression line. The higher the R-squared, the better the model fits your data. Best possible score is 1.0 and it can be negative (because the model can be arbitrarily worse).</li>\n",
    "</ul>"
   ]
  },
  {
   "cell_type": "code",
   "execution_count": 37,
   "metadata": {
    "button": false,
    "deletable": true,
    "new_sheet": false,
    "run_control": {
     "read_only": false
    },
    "scrolled": true
   },
   "outputs": [
    {
     "name": "stdout",
     "output_type": "stream",
     "text": [
      "Mean absolute error: 23.31\n",
      "Residual sum of squares (MSE): 919.09\n",
      "R2-score: 0.68\n"
     ]
    }
   ],
   "source": [
    "from sklearn.metrics import r2_score\n",
    "\n",
    "test_x = np.asanyarray(test[['ENGINESIZE']])\n",
    "test_y = np.asanyarray(test[['CO2EMISSIONS']])\n",
    "test_y_hat = regr.predict(test_x)\n",
    "\n",
    "print(\"Mean absolute error: %.2f\" % np.mean(np.absolute(test_y_hat - test_y)))\n",
    "print(\"Residual sum of squares (MSE): %.2f\" % np.mean((test_y_hat - test_y) ** 2))\n",
    "print(\"R2-score: %.2f\" % r2_score(test_y_hat , test_y) )"
   ]
  },
  {
   "cell_type": "markdown",
   "metadata": {
    "button": false,
    "deletable": true,
    "new_sheet": false,
    "run_control": {
     "read_only": false
    }
   },
   "source": [
    "<h2>Want to learn more?</h2>\n",
    "\n",
    "IBM SPSS Modeler is a comprehensive analytics platform that has many machine learning algorithms. It has been designed to bring predictive intelligence to decisions made by individuals, by groups, by systems – by your enterprise as a whole. A free trial is available through this course, available here: <a href=\"http://cocl.us/ML0101EN-SPSSModeler\">SPSS Modeler</a>\n",
    "\n",
    "Also, you can use Watson Studio to run these notebooks faster with bigger datasets. Watson Studio is IBM's leading cloud solution for data scientists, built by data scientists. With Jupyter notebooks, RStudio, Apache Spark and popular libraries pre-packaged in the cloud, Watson Studio enables data scientists to collaborate on their projects without having to install anything. Join the fast-growing community of Watson Studio users today with a free account at <a href=\"https://cocl.us/ML0101EN_DSX\">Watson Studio</a>\n",
    "\n",
    "<h3>Thanks for completing this lesson!</h3>\n",
    "\n",
    "<h4>Author:  <a href=\"https://ca.linkedin.com/in/saeedaghabozorgi\">Saeed Aghabozorgi</a></h4>\n",
    "<p><a href=\"https://ca.linkedin.com/in/saeedaghabozorgi\">Saeed Aghabozorgi</a>, PhD is a Data Scientist in IBM with a track record of developing enterprise level applications that substantially increases clients’ ability to turn data into actionable knowledge. He is a researcher in data mining field and expert in developing advanced analytic methods like machine learning and statistical modelling on large datasets.</p>\n",
    "\n",
    "<hr>\n",
    "\n",
    "<p>Copyright &copy; 2018 <a href=\"https://cocl.us/DX0108EN_CC\">Cognitive Class</a>. This notebook and its source code are released under the terms of the <a href=\"https://bigdatauniversity.com/mit-license/\">MIT License</a>.</p>"
   ]
  }
 ],
 "metadata": {
  "kernelspec": {
   "display_name": "Python",
   "language": "python",
   "name": "conda-env-python-py"
  },
  "language_info": {
   "codemirror_mode": {
    "name": "ipython",
    "version": 3
   },
   "file_extension": ".py",
   "mimetype": "text/x-python",
   "name": "python",
   "nbconvert_exporter": "python",
   "pygments_lexer": "ipython3",
   "version": "3.6.10"
  },
  "widgets": {
   "state": {},
   "version": "1.1.2"
  }
 },
 "nbformat": 4,
 "nbformat_minor": 4
}
